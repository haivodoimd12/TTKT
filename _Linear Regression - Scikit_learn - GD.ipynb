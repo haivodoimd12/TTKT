{
 "cells": [
  {
   "cell_type": "code",
   "execution_count": 137,
   "metadata": {},
   "outputs": [],
   "source": [
    "import numpy as np\n",
    "import matplotlib.pyplot as plt\n",
    "import timeit\n",
    "import pandas as pd"
   ]
  },
  {
   "cell_type": "code",
   "execution_count": 138,
   "metadata": {},
   "outputs": [
    {
     "data": {
      "image/png": "[encoded data removed]",
      "text/plain": [
       "<Figure size 432x288 with 1 Axes>"
      ]
     },
     "metadata": {
      "needs_background": "light"
     },
     "output_type": "display_data"
    }
   ],
   "source": [
    "X = np.random.rand(1000, 1)\n",
    "y = 4 + 3 * X + .2*np.random.randn(1000, 1)\n",
    "plt.plot(X,y,'o')\n",
    "plt.show()"
   ]
  },
  {
   "cell_type": "code",
   "execution_count": null,
   "metadata": {},
   "outputs": [],
   "source": []
  },
  {
   "cell_type": "code",
   "execution_count": 139,
   "metadata": {
    "scrolled": true
   },
   "outputs": [
    {
     "name": "stdout",
     "output_type": "stream",
     "text": [
      "w= [[4.01184695]\n",
      " [2.98284366]]\n"
     ]
    },
    {
     "data": {
      "image/png": "[encoded data removed]",
      "text/plain": [
       "<Figure size 432x288 with 1 Axes>"
      ]
     },
     "metadata": {
      "needs_background": "light"
     },
     "output_type": "display_data"
    },
    {
     "data": {
      "text/plain": [
       "0.005258199998934288"
      ]
     },
     "execution_count": 139,
     "metadata": {},
     "output_type": "execute_result"
    }
   ],
   "source": [
    "start = timeit.default_timer()\n",
    "one = np.ones((X.shape[0], 1))\n",
    "Xbar = np.concatenate((one, X), axis = 1)\n",
    "A = np.dot(Xbar.T, Xbar)\n",
    "b = np.dot(Xbar.T, y)\n",
    "w = np.dot(np.linalg.pinv(A), b)\n",
    "print('w=', w)\n",
    "y0 = w[0][0] + w[1][0]*x0\n",
    "x0 = np.linspace(0, 1, 2, endpoint=True)\n",
    "y0 = w[0][0] + w[1][0]*x0\n",
    "stop = timeit.default_timer()\n",
    "time1= stop-start\n",
    "plt.plot(X.T, y.T, 'b.')     # data \n",
    "plt.plot(x0, y0, 'y', linewidth = 2)   # the fitting line\n",
    "plt.axis([0, 1, 0, 10])\n",
    "plt.show()\n",
    "time1"
   ]
  },
  {
   "cell_type": "code",
   "execution_count": 140,
   "metadata": {},
   "outputs": [
    {
     "name": "stdout",
     "output_type": "stream",
     "text": [
      "Nghiệm tìm được bằng scikit-learn  :  [[4.01184695 2.98284366]]\n"
     ]
    }
   ],
   "source": [
    "from sklearn import datasets, linear_model\n",
    "start = timeit.default_timer()\n",
    "regr = linear_model.LinearRegression(fit_intercept=False)\n",
    "regr.fit(Xbar, y)\n",
    "print ('Nghiệm tìm được bằng scikit-learn  : ', regr.coef_) \n",
    "stop = timeit.default_timer()\n",
    "time2 = stop - start"
   ]
  },
  {
   "cell_type": "code",
   "execution_count": 141,
   "metadata": {},
   "outputs": [],
   "source": [
    "from __future__ import division, print_function, unicode_literals\n",
    "import numpy as np \n",
    "import matplotlib\n",
    "import matplotlib.pyplot as plt\n",
    "def grad(w):\n",
    "    N = Xbar.shape[0]\n",
    "    return 1/N * Xbar.T.dot(Xbar.dot(w) - y)\n",
    "\n",
    "def cost(w):\n",
    "    N = Xbar.shape[0]\n",
    "    return .5/N*np.linalg.norm(Y - Xbar.dot(w), 2)**2;\n",
    "def numerical_grad(w, cost):\n",
    "    eps = 1e-8\n",
    "    g = np.zeros_like(w)\n",
    "    for i in range(len(w)):\n",
    "        w_p = w.copy()\n",
    "        w_n = w.copy()\n",
    "        w_p[i] += eps \n",
    "        w_n[i] -= eps\n",
    "        g[i] = (cost(w_p) - cost(w_n))/(2*eps)\n",
    "    return g \n",
    "\n",
    "def check_grad(w, cost, grad):\n",
    "    w = np.random.rand(w.shape[0], w.shape[1])\n",
    "    grad1 = grad(w)\n",
    "    grad2 = numerical_grad(w, cost)\n",
    "    return True if np.linalg.norm(grad1 - grad2) < 1e-6 else False \n",
    "\n",
    "def myGD(w_init, grad, eta):\n",
    "    w = [w_init]\n",
    "    for it in range(100):\n",
    "        w_new = w[-1] - eta*grad(w[-1])\n",
    "        if np.linalg.norm(grad(w_new))/len(w_new) < 1e-3:\n",
    "            break \n",
    "        w.append(w_new)\n",
    "    return (w, it) \n",
    "start = timeit.default_timer()\n",
    "w_init = np.array([[2], [1]])\n",
    "(w1, it1) = myGD(w_init, grad, 1)\n",
    "stop = timeit.default_timer()\n",
    "time3= stop - start"
   ]
  },
  {
   "cell_type": "code",
   "execution_count": 146,
   "metadata": {},
   "outputs": [
    {
     "name": "stdout",
     "output_type": "stream",
     "text": [
      "Nghiệm tìm được từ numpy:  [[4.01184695 2.98284366]] thời gian 0.003858 s\n",
      "Nghiệm tìm được bằng scikit-learn  :  [[4.01184695 2.98284366]] thời gian: 0.005258 s\n",
      "Nghiệm tìm được từ GD: w =  [[4.02610495 2.95550194]] thời gian 0.004918 s \n",
      "sau 48 vòng lặp.\n",
      "[[4.01184695 2.98284366]]\n"
     ]
    }
   ],
   "source": [
    "print ('Nghiệm tìm được từ numpy: ', w.T, 'thời gian %f s' %time2)\n",
    "print ('Nghiệm tìm được bằng scikit-learn  : ', regr.coef_,'thời gian: %f s' %(time1) ) \n",
    "print('Nghiệm tìm được từ GD: w = ', w1[-1].T, 'thời gian %f s'%(time3) ,'\\nsau %d vòng lặp.' %(it1+1))\n",
    "print(regr.coef_)"
   ]
  },
  {
   "cell_type": "code",
   "execution_count": 193,
   "metadata": {},
   "outputs": [
    {
     "name": "stdout",
     "output_type": "stream",
     "text": [
      "    phuong phap      time        w1        w0\n",
      "0         numpy  0.005258  2.982844  4.011847\n",
      "1  scikit-learn  0.003858  2.982844  4.011847\n",
      "2            GD  0.004918  2.955502  4.026105\n"
     ]
    }
   ],
   "source": [
    "from pandas import DataFrame\n",
    "rp= pd.DataFrame({'phuong phap':['numpy', 'scikit-learn','GD'],\n",
    "                 'time':[time1,time2,time3],\n",
    "                 'w1':[w[1][0],regr.coef_[0][1],w1[-1][1][0]],\n",
    "                 'w0':[w[0][0],regr.coef_[0][0],w1[-1][0][0]],})\n",
    "print(rp)\n",
    "rp_csv = rp.to_csv('sosanh.csv')\n"
   ]
  }
 ],
 "metadata": {
  "kernelspec": {
   "display_name": "Python 3",
   "language": "python",
   "name": "python3"
  },
  "language_info": {
   "codemirror_mode": {
    "name": "ipython",
    "version": 3
   },
   "file_extension": ".py",
   "mimetype": "text/x-python",
   "name": "python",
   "nbconvert_exporter": "python",
   "pygments_lexer": "ipython3",
   "version": "3.7.6"
  }
 },
 "nbformat": 4,
 "nbformat_minor": 4
}
