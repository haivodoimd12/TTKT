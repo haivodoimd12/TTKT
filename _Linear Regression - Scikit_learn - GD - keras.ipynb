{
 "cells": [
  {
   "cell_type": "code",
   "execution_count": 231,
   "metadata": {},
   "outputs": [],
   "source": [
    "import numpy as np\n",
    "import matplotlib.pyplot as plt\n",
    "import timeit\n",
    "import pandas as pd"
   ]
  },
  {
   "cell_type": "code",
   "execution_count": 232,
   "metadata": {},
   "outputs": [
    {
     "data": {
      "image/png": "[encoded data removed]",
      "text/plain": [
       "<Figure size 432x288 with 1 Axes>"
      ]
     },
     "metadata": {
      "needs_background": "light"
     },
     "output_type": "display_data"
    }
   ],
   "source": [
    "X = np.random.rand(1000, 1)\n",
    "y = 4 + 3 * X + .2*np.random.randn(1000, 1)\n",
    "plt.plot(X,y,'o')\n",
    "plt.show()"
   ]
  },
  {
   "cell_type": "code",
   "execution_count": null,
   "metadata": {},
   "outputs": [],
   "source": []
  },
  {
   "cell_type": "code",
   "execution_count": 233,
   "metadata": {
    "scrolled": true
   },
   "outputs": [
    {
     "name": "stdout",
     "output_type": "stream",
     "text": [
      "w= [[3.99333678]\n",
      " [3.00428714]]\n"
     ]
    },
    {
     "data": {
      "image/png": "[encoded data removed]",
      "text/plain": [
       "<Figure size 432x288 with 1 Axes>"
      ]
     },
     "metadata": {
      "needs_background": "light"
     },
     "output_type": "display_data"
    },
    {
     "data": {
      "text/plain": [
       "0.014765899999474641"
      ]
     },
     "execution_count": 233,
     "metadata": {},
     "output_type": "execute_result"
    }
   ],
   "source": [
    "start = timeit.default_timer()\n",
    "one = np.ones((X.shape[0], 1))\n",
    "Xbar = np.concatenate((one, X), axis = 1)\n",
    "A = np.dot(Xbar.T, Xbar)\n",
    "b = np.dot(Xbar.T, y)\n",
    "w = np.dot(np.linalg.pinv(A), b)\n",
    "print('w=', w)\n",
    "y0 = w[0][0] + w[1][0]*x0\n",
    "x0 = np.linspace(0, 1, 2, endpoint=True)\n",
    "y0 = w[0][0] + w[1][0]*x0\n",
    "stop = timeit.default_timer()\n",
    "time1= stop-start\n",
    "plt.plot(X.T, y.T, 'b.')     # data \n",
    "plt.plot(x0, y0, 'y', linewidth = 2)   # the fitting line\n",
    "plt.axis([0, 1, 0, 10])\n",
    "plt.show()\n",
    "time1"
   ]
  },
  {
   "cell_type": "code",
   "execution_count": 234,
   "metadata": {},
   "outputs": [
    {
     "name": "stdout",
     "output_type": "stream",
     "text": [
      "Nghiệm tìm được bằng scikit-learn  :  [[3.99333678 3.00428714]]\n"
     ]
    }
   ],
   "source": [
    "from sklearn import datasets, linear_model\n",
    "start = timeit.default_timer()\n",
    "regr = linear_model.LinearRegression(fit_intercept=False)\n",
    "regr.fit(Xbar, y)\n",
    "print ('Nghiệm tìm được bằng scikit-learn  : ', regr.coef_) \n",
    "stop = timeit.default_timer()\n",
    "time2 = stop - start"
   ]
  },
  {
   "cell_type": "code",
   "execution_count": 235,
   "metadata": {},
   "outputs": [],
   "source": [
    "from __future__ import division, print_function, unicode_literals\n",
    "import numpy as np \n",
    "import matplotlib\n",
    "import matplotlib.pyplot as plt\n",
    "def grad(w):\n",
    "    N = Xbar.shape[0]\n",
    "    return 1/N * Xbar.T.dot(Xbar.dot(w) - y)\n",
    "\n",
    "def cost(w):\n",
    "    N = Xbar.shape[0]\n",
    "    return .5/N*np.linalg.norm(Y - Xbar.dot(w), 2)**2;\n",
    "def numerical_grad(w, cost):\n",
    "    eps = 1e-8\n",
    "    g = np.zeros_like(w)\n",
    "    for i in range(len(w)):\n",
    "        w_p = w.copy()\n",
    "        w_n = w.copy()\n",
    "        w_p[i] += eps \n",
    "        w_n[i] -= eps\n",
    "        g[i] = (cost(w_p) - cost(w_n))/(2*eps)\n",
    "    return g \n",
    "\n",
    "def check_grad(w, cost, grad):\n",
    "    w = np.random.rand(w.shape[0], w.shape[1])\n",
    "    grad1 = grad(w)\n",
    "    grad2 = numerical_grad(w, cost)\n",
    "    return True if np.linalg.norm(grad1 - grad2) < 1e-6 else False \n",
    "\n",
    "def myGD(w_init, grad, eta):\n",
    "    w = [w_init]\n",
    "    for it in range(100):\n",
    "        w_new = w[-1] - eta*grad(w[-1])\n",
    "        if np.linalg.norm(grad(w_new))/len(w_new) < 1e-3:\n",
    "            break \n",
    "        w.append(w_new)\n",
    "    return (w, it) \n",
    "start = timeit.default_timer()\n",
    "w_init = np.array([[2], [1]])\n",
    "(w1, it1) = myGD(w_init, grad, 1)\n",
    "stop = timeit.default_timer()\n",
    "time3= stop - start"
   ]
  },
  {
   "cell_type": "code",
   "execution_count": 236,
   "metadata": {},
   "outputs": [
    {
     "name": "stdout",
     "output_type": "stream",
     "text": [
      "Nghiệm tìm được từ numpy:  [[3.99333678 3.00428714]] thời gian 0.013274 s\n",
      "Nghiệm tìm được bằng scikit-learn  :  [[3.99333678 3.00428714]] thời gian: 0.014766 s\n",
      "Nghiệm tìm được từ GD: w =  [[4.00823631 2.97685703]] thời gian 0.006933 s \n",
      "sau 48 vòng lặp.\n",
      "[[3.99333678 3.00428714]]\n"
     ]
    }
   ],
   "source": [
    "print ('Nghiệm tìm được từ numpy: ', w.T, 'thời gian %f s' %time2)\n",
    "print ('Nghiệm tìm được bằng scikit-learn  : ', regr.coef_,'thời gian: %f s' %(time1) ) \n",
    "print('Nghiệm tìm được từ GD: w = ', w1[-1].T, 'thời gian %f s'%(time3) ,'\\nsau %d vòng lặp.' %(it1+1))\n",
    "print(regr.coef_)"
   ]
  },
  {
   "cell_type": "code",
   "execution_count": 246,
   "metadata": {},
   "outputs": [
    {
     "name": "stdout",
     "output_type": "stream",
     "text": [
      "3.109240599998884\n"
     ]
    }
   ],
   "source": [
    "from keras.models import Sequential\n",
    "from keras.layers.core import Dense, Activation\n",
    "from keras import optimizers\n",
    "X = np.random.rand(100, 1)\n",
    "y =  3 * X + 4 + .2*np.random.randn(100)\n",
    "start = timeit.default_timer()\n",
    "model = Sequential([Dense(1, input_shape = (1,), activation='linear')])\n",
    "sgd = optimizers.SGD(lr=0.1)\n",
    "model.compile(loss='mse', optimizer=sgd, metrics = ['accuracy'])\n",
    "model.fit(X, y, epochs=100, batch_size=2,verbose=0)\n",
    "model.get_weights()\n",
    "stop = timeit.default_timer()\n",
    "time4 = stop - start\n",
    "print(time4)"
   ]
  },
  {
   "cell_type": "code",
   "execution_count": 264,
   "metadata": {},
   "outputs": [
    {
     "data": {
      "text/plain": [
       "4.0121737"
      ]
     },
     "execution_count": 264,
     "metadata": {},
     "output_type": "execute_result"
    }
   ],
   "source": [
    "a = model.get_weights()\n",
    "a[1][0]"
   ]
  },
  {
   "cell_type": "code",
   "execution_count": 266,
   "metadata": {},
   "outputs": [
    {
     "name": "stdout",
     "output_type": "stream",
     "text": [
      "    phuong phap      time        w1        w0\n",
      "0         numpy  0.014766  3.004287  3.993337\n",
      "1  scikit-learn  0.013274  3.004287  3.993337\n",
      "2            GD  0.006933  2.976857  4.008236\n",
      "3         keras  3.109241  2.999999  4.012174\n"
     ]
    }
   ],
   "source": [
    "from pandas import DataFrame\n",
    "rp= pd.DataFrame({'phuong phap':['numpy', 'scikit-learn','GD','keras'],\n",
    "                 'time':[time1,time2,time3,time4],\n",
    "                 'w1':[w[1][0],regr.coef_[0][1],w1[-1][1][0],a[0][0][0]],\n",
    "                 'w0':[w[0][0],regr.coef_[0][0],w1[-1][0][0],a[1][0]]})\n",
    "print(rp)\n",
    "rp_csv = rp.to_csv('sosanh.csv')"
   ]
  }
 ],
 "metadata": {
  "kernelspec": {
   "display_name": "Python 3",
   "language": "python",
   "name": "python3"
  },
  "language_info": {
   "codemirror_mode": {
    "name": "ipython",
    "version": 3
   },
   "file_extension": ".py",
   "mimetype": "text/x-python",
   "name": "python",
   "nbconvert_exporter": "python",
   "pygments_lexer": "ipython3",
   "version": "3.7.6"
  }
 },
 "nbformat": 4,
 "nbformat_minor": 4
}
